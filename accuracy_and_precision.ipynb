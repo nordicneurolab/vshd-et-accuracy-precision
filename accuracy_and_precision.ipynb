{
 "cells": [
  {
   "cell_type": "markdown",
   "metadata": {},
   "source": [
    "## 1 - Introduction ##\n",
    "\n",
    "This Notebook shows the calculations of accuracy and precision for the Arrington ViewPoint EyeTracking software with the NordicNeuroLab VisualSystem HD. The notebook is processing n ViewPoint dataFiles which each contains the gaze data for 16 stimulus points with a duration of 3 seconds. Letters from A-P are inserted as markers and identifies the row where a new stimulus point is shown. The notebook will only run if the dataFiles are on this forma. To use the notebook for your specific dataFiles, configure the different functions accordingly.\n"
   ]
  },
  {
   "cell_type": "markdown",
   "metadata": {},
   "source": [
    "## 2 - Preprocessing ##"
   ]
  },
  {
   "cell_type": "markdown",
   "metadata": {},
   "source": [
    "#### 2.1 Loading libraries and defining constants ####"
   ]
  },
  {
   "cell_type": "code",
   "execution_count": 85,
   "metadata": {},
   "outputs": [],
   "source": [
    "import pandas as pd\n",
    "import numpy as np\n",
    "import matplotlib.pyplot as plt\n",
    "from os import listdir\n",
    "from scipy import stats\n",
    "pd.options.mode.chained_assignment = None"
   ]
  },
  {
   "cell_type": "markdown",
   "metadata": {},
   "source": [
    "We define the path of the ViewPoint dataFiles and VSHD constants as well as the coordinates for each stimulus pointin the ViewPoint coordinate system."
   ]
  },
  {
   "cell_type": "code",
   "execution_count": 86,
   "metadata": {},
   "outputs": [],
   "source": [
    "measurement_dir = 'Data/'\n",
    "\n",
    "VSHD_WIDTH = 1920\n",
    "VSHD_HEIGHT = 1200\n",
    "\n",
    "VSHD_VERTICAL_FOV = 34\n",
    "VSHD_HORIZONTAL_FOV = 52.1\n",
    "\n",
    "stimpoints_dict =  {\n",
    "    'A' : [0.30, 0.75],\n",
    "    'B' : [0.70, 0.25],\n",
    "    'C' : [0.30, 0.25],\n",
    "    'D' : [0.70, 0.75],\n",
    "    'E' : [0.40, 0.60],\n",
    "    'F' : [0.60, 0.60],\n",
    "    'G' : [0.40, 0.40],\n",
    "    'H' : [0.60, 0.40],\n",
    "    'I' : [0.50, 0.425],\n",
    "    'J' : [0.50, 0.75],\n",
    "    'K' : [0.50, 0.25],\n",
    "    'L' : [0.30, 0.50],\n",
    "    'M' : [0.50, 0.35],\n",
    "    'N' : [0.70, 0.50],\n",
    "    'O' : [0.50, 0.65],\n",
    "    'P': [0.50, 0.50]\n",
    "}\n",
    "\n",
    "Z = 3"
   ]
  },
  {
   "cell_type": "markdown",
   "metadata": {},
   "source": [
    "From the VSHD parameters we can calculate the distance (in units pixels) from the screen to the observers eyes. \n",
    "\n",
    "We choose the point o = (x_0, y_0, z_0) = (0, 0, 0) as the top left of the screen."
   ]
  },
  {
   "cell_type": "code",
   "execution_count": 87,
   "metadata": {},
   "outputs": [],
   "source": [
    "distance_eye_screen = (VSHD_WIDTH * 0.5) / ( np.tan(VSHD_HORIZONTAL_FOV * 0.5 * (np.pi / 180) ) )\n",
    "eye = np.array([0.5 * VSHD_WIDTH, 0.5 * VSHD_HEIGHT, distance_eye_screen])"
   ]
  },
  {
   "cell_type": "markdown",
   "metadata": {},
   "source": [
    "The stimulus points coordinates needs to be calculated from the ViewPoint coordinates in the stimpoints_dict. The VSHD OLED displays comprise 1920 x 1200 pixels. This corresponds to an aspect ratio of 16:10, while the coordinates provided by ViewPoint corresponds to an aspect ratio of 1:1. Therefore, the x and y coordinates needs to be adjusted. We choose to use pixels as the unit."
   ]
  },
  {
   "cell_type": "code",
   "execution_count": 88,
   "metadata": {},
   "outputs": [],
   "source": [
    "stimpoints_dict_normalized = {}\n",
    "for key, val in stimpoints_dict.items():\n",
    "    stimpoints_dict_normalized[key] = np.array([val[0] * VSHD_WIDTH, val[1] * VSHD_HEIGHT, 0])\n"
   ]
  },
  {
   "cell_type": "markdown",
   "metadata": {},
   "source": [
    "#### 2.2 - Loading data ####\n",
    "Let's start by reading in all of the ViewPoint recordings as pandas dataframes. We skip the 40 first rows does not contain any useful information. Some rows contains other information than the gaze data specified in the header in row number 41, this will raise an Exception from the Pandas library, we skip these rows as they do not contain useful information for us."
   ]
  },
  {
   "cell_type": "code",
   "execution_count": 89,
   "metadata": {},
   "outputs": [],
   "source": [
    "\n",
    "list_files = listdir(measurement_dir)\n",
    "df_list = []\n",
    "for f in list_files:\n",
    "    df = pd.read_csv(measurement_dir + f, \n",
    "                     skiprows = 40, \n",
    "                     on_bad_lines = 'skip', \n",
    "                     delimiter = '\\t',\n",
    "                     )\n",
    "    df_list.append(df)\n",
    "\n"
   ]
  },
  {
   "cell_type": "markdown",
   "metadata": {},
   "source": [
    "#### 2.3 - Inserting markers ####\n",
    "\n",
    "Next, we need to locate all the markers inserted in the datafile which indicates where a new stimulus point was shown to the subject. Then we insert these markers to the Marker column."
   ]
  },
  {
   "cell_type": "code",
   "execution_count": 90,
   "metadata": {},
   "outputs": [],
   "source": [
    "def _get_stimpoint(row):\n",
    "    if row['Marker'] in stimpoints_dict_normalized.keys():\n",
    "        return stimpoints_dict_normalized[row['Marker']]\n",
    "    else:\n",
    "        return np.nan\n",
    "    \n",
    "def insert_stimpoints(df):\n",
    "    df['Marker'] = df['Marker'].fillna(method = 'ffill')\n",
    "    df['Target'] = df.apply(_get_stimpoint,  axis = 1)\n",
    "    return df\n",
    "    "
   ]
  },
  {
   "cell_type": "markdown",
   "metadata": {},
   "source": [
    "#### 2.4 - Remove unecessary columns ####\n",
    "\n",
    "We will also only keep the columns we are interested in, which are the Marker column and the gaze points for each eye. We also get rid of all the row which does not provide useful information by using pandas dropna()."
   ]
  },
  {
   "cell_type": "code",
   "execution_count": 91,
   "metadata": {},
   "outputs": [],
   "source": [
    "def remove_unecesarry_cols(df):\n",
    "    df = df[['Marker', 'X_Gaze', 'Y_Gaze', 'X_Gaze.1', 'Y_Gaze.1', 'Target']]\n",
    "    df = df.dropna()\n",
    "    return df"
   ]
  },
  {
   "cell_type": "markdown",
   "metadata": {},
   "source": [
    "#### 2.5 - Calculating mean gaze ####\n",
    "\n",
    "Now we want to calculate the mean of the gaze points from eye A and eye B into a combined gazepoint AB, for each axis."
   ]
  },
  {
   "cell_type": "code",
   "execution_count": 92,
   "metadata": {},
   "outputs": [],
   "source": [
    "\n",
    "def insert_mean_gaze(df):\n",
    "    df['X_Gaze_AB'] = df[['X_Gaze', 'X_Gaze.1']].mean(axis=1)\n",
    "    df['Y_Gaze_AB'] = df[['Y_Gaze', 'Y_Gaze.1']].mean(axis=1)\n",
    "    return df\n"
   ]
  },
  {
   "cell_type": "markdown",
   "metadata": {},
   "source": [
    "Again, because of the gaze points are in the ViewPoint coordinate system, we need to normalize them to the VSHD coordinate system (in pixels)"
   ]
  },
  {
   "cell_type": "code",
   "execution_count": 93,
   "metadata": {},
   "outputs": [],
   "source": [
    "\n",
    "def normalize_to_vshd(df):\n",
    "    df[['X_Gaze', 'X_Gaze.1', 'X_Gaze_AB']] = df[['X_Gaze', 'X_Gaze.1', 'X_Gaze_AB']].apply(lambda x: x * VSHD_WIDTH)\n",
    "    df[['Y_Gaze', 'Y_Gaze.1', 'Y_Gaze_AB']] = df[['Y_Gaze', 'Y_Gaze.1', 'Y_Gaze_AB']].apply(lambda x: x * VSHD_HEIGHT)\n",
    "    return df"
   ]
  },
  {
   "cell_type": "markdown",
   "metadata": {},
   "source": [
    "Furthermore, the new averaged gaze points will be made into points in our new coordinate system. Now we also can get rid of unecessary columns."
   ]
  },
  {
   "cell_type": "code",
   "execution_count": 94,
   "metadata": {},
   "outputs": [],
   "source": [
    "def _get_gaze_point(row):\n",
    "    return np.array([row['X_Gaze_AB'], row['Y_Gaze_AB'], 0])\n",
    "\n",
    "def insert_gaze_points_3D(df):\n",
    "    df['Gaze'] = df.apply(_get_gaze_point, axis = 1)\n",
    "    df = df[['Marker', 'Gaze', 'Target']]\n",
    "    return df"
   ]
  },
  {
   "cell_type": "markdown",
   "metadata": {},
   "source": [
    "#### 2.6 - Calculating angular offset ####\n",
    "\n",
    "With the three points we have: Eye, Gaze and Target, we define two vectors: Eye to Target, and Eye to Gaze, we then create another column to our dataframe with the angular offset between the two vectors."
   ]
  },
  {
   "cell_type": "code",
   "execution_count": 95,
   "metadata": {},
   "outputs": [],
   "source": [
    "def get_angle_between_vectors(v, u):\n",
    "    v_norm = v / np.linalg.norm(v)\n",
    "    u_norm = u / np.linalg.norm(u)\n",
    "    theta = np.arccos(np.clip(np.dot(v_norm, u_norm), -1.0, 1.0))\n",
    "    return np.degrees(theta)\n",
    "\n",
    "\n",
    "def _calculate_angle_of_row(row):\n",
    "    eye_target = eye - row['Target'] \n",
    "    eye_gaze = eye - row['Gaze']\n",
    "    return get_angle_between_vectors(eye_target, eye_gaze)\n",
    "\n",
    "\n",
    "def insert_angle(df):\n",
    "    df['Theta'] = df.apply(_calculate_angle_of_row, axis = 1)\n",
    "    return df"
   ]
  },
  {
   "cell_type": "markdown",
   "metadata": {},
   "source": [
    "#### 2.7 - Defining the gaze ####\n",
    "\n",
    "For each stimulus point, we need to calculate the sequence of gaze points that comprise the fixation. \n",
    "\n",
    "Each stimulus point was 3 Seconds long. We consider 0.8 - 2.8 seconds to be the 2 seconds of interest. The VSHD EyeTracker measures with a frequency of 60 Hz, meaning we must have datapoint 48 to 168."
   ]
  },
  {
   "cell_type": "code",
   "execution_count": 96,
   "metadata": {},
   "outputs": [],
   "source": [
    "def filter_gaze(df):\n",
    "    filtered_gaze = []\n",
    "    for key in stimpoints_dict_normalized.keys():\n",
    "        marker_group = df.loc[df['Marker'] == key]\n",
    "        marker_group = marker_group.iloc[48:168, :]\n",
    "        filtered_gaze.append(marker_group)\n",
    "        \n",
    "    return pd.concat(filtered_gaze, axis = 0)\n",
    "        "
   ]
  },
  {
   "cell_type": "markdown",
   "metadata": {},
   "source": [
    "#### 2.8 - Removing outliers ####\n",
    "\n",
    "Outliers in the dataset can be caused of saccades, blinks or wrong measurements.\n",
    "\n",
    "We use a z-score of 3 as a threshold for these outliers, meaning we discard every measurement that is 3 times the standard deviation of the angles within the subjects measurements."
   ]
  },
  {
   "cell_type": "code",
   "execution_count": 97,
   "metadata": {},
   "outputs": [],
   "source": [
    "def remove_outliers(df):\n",
    "    df = df[np.abs(stats.zscore(df['Theta'], ddof = 1)) < Z]\n",
    "    return df"
   ]
  },
  {
   "cell_type": "markdown",
   "metadata": {},
   "source": [
    "#### 2.9  - Creating a preprocessing pipeline ####\n",
    "\n",
    "We collect all our preprocessing steps in a new class PreProcessor"
   ]
  },
  {
   "cell_type": "code",
   "execution_count": 98,
   "metadata": {},
   "outputs": [],
   "source": [
    "class PreProcessor:\n",
    "\n",
    "    def __call__(self, df) -> pd.DataFrame:\n",
    "        df_stim = insert_stimpoints(df)\n",
    "        df_stripped = remove_unecesarry_cols(df_stim)\n",
    "        df_mean_gaze = insert_mean_gaze(df_stripped)\n",
    "        df_normalized = normalize_to_vshd(df_mean_gaze)\n",
    "        df_gaze_3d = insert_gaze_points_3D(df_normalized)\n",
    "        df_angle = insert_angle(df_gaze_3d)\n",
    "        df_filtered_gaze = filter_gaze(df_angle)\n",
    "        df_no_outliers = remove_outliers(df_filtered_gaze)\n",
    "        print(f'Removed Outliers, {round(len(df_no_outliers)/len(df_filtered_gaze) * 100, 4)} % of Data was within {Z} Standard Deviations')\n",
    "        return df_no_outliers\n"
   ]
  },
  {
   "cell_type": "code",
   "execution_count": 99,
   "metadata": {},
   "outputs": [
    {
     "name": "stdout",
     "output_type": "stream",
     "text": [
      "Removed Outliers, 98.3152 % of Data was within 3 Standard Deviations\n",
      "Removed Outliers, 99.2708 % of Data was within 3 Standard Deviations\n",
      "Removed Outliers, 98.0729 % of Data was within 3 Standard Deviations\n",
      "Removed Outliers, 99.8958 % of Data was within 3 Standard Deviations\n",
      "Removed Outliers, 99.8954 % of Data was within 3 Standard Deviations\n",
      "Removed Outliers, 97.6042 % of Data was within 3 Standard Deviations\n",
      "Removed Outliers, 98.5938 % of Data was within 3 Standard Deviations\n",
      "Removed Outliers, 97.7083 % of Data was within 3 Standard Deviations\n",
      "Removed Outliers, 96.5104 % of Data was within 3 Standard Deviations\n",
      "Removed Outliers, 98.9062 % of Data was within 3 Standard Deviations\n",
      "Removed Outliers, 100.0 % of Data was within 3 Standard Deviations\n"
     ]
    }
   ],
   "source": [
    "preprocessor = PreProcessor()\n",
    "preprocessed_df_list = [preprocessor(df) for df in df_list]"
   ]
  },
  {
   "cell_type": "markdown",
   "metadata": {},
   "source": [
    "## 3 - Results ##"
   ]
  },
  {
   "cell_type": "markdown",
   "metadata": {},
   "source": [
    "Let's concatenate all the individual measurements into one large dataframe to see that everything is as expected"
   ]
  },
  {
   "cell_type": "code",
   "execution_count": 100,
   "metadata": {},
   "outputs": [
    {
     "data": {
      "text/html": [
       "<div>\n",
       "<style scoped>\n",
       "    .dataframe tbody tr th:only-of-type {\n",
       "        vertical-align: middle;\n",
       "    }\n",
       "\n",
       "    .dataframe tbody tr th {\n",
       "        vertical-align: top;\n",
       "    }\n",
       "\n",
       "    .dataframe thead th {\n",
       "        text-align: right;\n",
       "    }\n",
       "</style>\n",
       "<table border=\"1\" class=\"dataframe\">\n",
       "  <thead>\n",
       "    <tr style=\"text-align: right;\">\n",
       "      <th></th>\n",
       "      <th>Marker</th>\n",
       "      <th>Gaze</th>\n",
       "      <th>Target</th>\n",
       "      <th>Theta</th>\n",
       "    </tr>\n",
       "  </thead>\n",
       "  <tbody>\n",
       "    <tr>\n",
       "      <th>581</th>\n",
       "      <td>A</td>\n",
       "      <td>[548.4479999999999, 951.3, 0.0]</td>\n",
       "      <td>[576.0, 900.0, 0.0]</td>\n",
       "      <td>1.597720</td>\n",
       "    </tr>\n",
       "    <tr>\n",
       "      <th>582</th>\n",
       "      <td>A</td>\n",
       "      <td>[542.4, 944.76, 0.0]</td>\n",
       "      <td>[576.0, 900.0, 0.0]</td>\n",
       "      <td>1.531112</td>\n",
       "    </tr>\n",
       "    <tr>\n",
       "      <th>583</th>\n",
       "      <td>A</td>\n",
       "      <td>[544.512, 949.5, 0.0]</td>\n",
       "      <td>[576.0, 900.0, 0.0]</td>\n",
       "      <td>1.606815</td>\n",
       "    </tr>\n",
       "    <tr>\n",
       "      <th>584</th>\n",
       "      <td>A</td>\n",
       "      <td>[545.2800000000001, 945.06, 0.0]</td>\n",
       "      <td>[576.0, 900.0, 0.0]</td>\n",
       "      <td>1.493437</td>\n",
       "    </tr>\n",
       "    <tr>\n",
       "      <th>585</th>\n",
       "      <td>A</td>\n",
       "      <td>[549.408, 952.6800000000001, 0.0]</td>\n",
       "      <td>[576.0, 900.0, 0.0]</td>\n",
       "      <td>1.620053</td>\n",
       "    </tr>\n",
       "    <tr>\n",
       "      <th>...</th>\n",
       "      <td>...</td>\n",
       "      <td>...</td>\n",
       "      <td>...</td>\n",
       "      <td>...</td>\n",
       "    </tr>\n",
       "    <tr>\n",
       "      <th>3761</th>\n",
       "      <td>P</td>\n",
       "      <td>[1024.32, 555.42, 0.0]</td>\n",
       "      <td>[960.0, 600.0, 0.0]</td>\n",
       "      <td>2.281907</td>\n",
       "    </tr>\n",
       "    <tr>\n",
       "      <th>3762</th>\n",
       "      <td>P</td>\n",
       "      <td>[1021.344, 557.1600000000001, 0.0]</td>\n",
       "      <td>[960.0, 600.0, 0.0]</td>\n",
       "      <td>2.181798</td>\n",
       "    </tr>\n",
       "    <tr>\n",
       "      <th>3763</th>\n",
       "      <td>P</td>\n",
       "      <td>[1022.6880000000001, 557.04, 0.0]</td>\n",
       "      <td>[960.0, 600.0, 0.0]</td>\n",
       "      <td>2.215985</td>\n",
       "    </tr>\n",
       "    <tr>\n",
       "      <th>3764</th>\n",
       "      <td>P</td>\n",
       "      <td>[1020.6719999999999, 555.48, 0.0]</td>\n",
       "      <td>[960.0, 600.0, 0.0]</td>\n",
       "      <td>2.194371</td>\n",
       "    </tr>\n",
       "    <tr>\n",
       "      <th>3766</th>\n",
       "      <td>P</td>\n",
       "      <td>[1022.6880000000001, 556.5, 0.0]</td>\n",
       "      <td>[960.0, 600.0, 0.0]</td>\n",
       "      <td>2.224915</td>\n",
       "    </tr>\n",
       "  </tbody>\n",
       "</table>\n",
       "<p>20741 rows × 4 columns</p>\n",
       "</div>"
      ],
      "text/plain": [
       "     Marker                                Gaze               Target     Theta\n",
       "581       A     [548.4479999999999, 951.3, 0.0]  [576.0, 900.0, 0.0]  1.597720\n",
       "582       A                [542.4, 944.76, 0.0]  [576.0, 900.0, 0.0]  1.531112\n",
       "583       A               [544.512, 949.5, 0.0]  [576.0, 900.0, 0.0]  1.606815\n",
       "584       A    [545.2800000000001, 945.06, 0.0]  [576.0, 900.0, 0.0]  1.493437\n",
       "585       A   [549.408, 952.6800000000001, 0.0]  [576.0, 900.0, 0.0]  1.620053\n",
       "...     ...                                 ...                  ...       ...\n",
       "3761      P              [1024.32, 555.42, 0.0]  [960.0, 600.0, 0.0]  2.281907\n",
       "3762      P  [1021.344, 557.1600000000001, 0.0]  [960.0, 600.0, 0.0]  2.181798\n",
       "3763      P   [1022.6880000000001, 557.04, 0.0]  [960.0, 600.0, 0.0]  2.215985\n",
       "3764      P   [1020.6719999999999, 555.48, 0.0]  [960.0, 600.0, 0.0]  2.194371\n",
       "3766      P    [1022.6880000000001, 556.5, 0.0]  [960.0, 600.0, 0.0]  2.224915\n",
       "\n",
       "[20741 rows x 4 columns]"
      ]
     },
     "execution_count": 100,
     "metadata": {},
     "output_type": "execute_result"
    }
   ],
   "source": [
    "review_df = pd.concat(preprocessed_df_list)\n",
    "review_df"
   ]
  },
  {
   "cell_type": "code",
   "execution_count": 101,
   "metadata": {},
   "outputs": [
    {
     "data": {
      "image/png": "[encoded data removed]",
      "text/plain": [
       "<Figure size 640x480 with 1 Axes>"
      ]
     },
     "metadata": {},
     "output_type": "display_data"
    }
   ],
   "source": [
    "plt.hist(review_df['Theta'], bins = 100)\n",
    "plt.xlabel('Theta [Degrees]')\n",
    "plt.show()"
   ]
  },
  {
   "cell_type": "markdown",
   "metadata": {},
   "source": [
    "Now we are ready to produce the results. We go through each subject and calculate the accuracy and precision.\n",
    "\n",
    "The accuracy for each subject is defined as the mean angular offset (theta) in degrees of visual angle between the n = 16 measured fixation locations and the corresponding locations of the fixation target.\n",
    "\n",
    "The precision for each subject is defined as the mean of sample-to-sample movement for each 16 targets."
   ]
  },
  {
   "cell_type": "code",
   "execution_count": 102,
   "metadata": {},
   "outputs": [],
   "source": [
    "def rms(df):\n",
    "    rms = []\n",
    "    for key in stimpoints_dict_normalized.keys():\n",
    "        marker_group = df.loc[df['Marker'] == key]\n",
    "        squared_succesive_angles = []\n",
    "        for i in range(len(marker_group['Gaze']) - 1):\n",
    "            eye_gaze_0 = eye - marker_group['Gaze'].iloc[i]\n",
    "            eye_gaze_1 = eye - marker_group['Gaze'].iloc[i + 1]\n",
    "            squared_succesive_angles.append(get_angle_between_vectors(eye_gaze_0, eye_gaze_1) ** 2)\n",
    "        squared_angles_summed = np.sum(squared_succesive_angles)\n",
    "        rms.append(np.sqrt( squared_angles_summed / len(squared_succesive_angles)))\n",
    "    return np.mean(rms)\n"
   ]
  },
  {
   "cell_type": "code",
   "execution_count": 103,
   "metadata": {},
   "outputs": [
    {
     "data": {
      "text/html": [
       "<div>\n",
       "<style scoped>\n",
       "    .dataframe tbody tr th:only-of-type {\n",
       "        vertical-align: middle;\n",
       "    }\n",
       "\n",
       "    .dataframe tbody tr th {\n",
       "        vertical-align: top;\n",
       "    }\n",
       "\n",
       "    .dataframe thead th {\n",
       "        text-align: right;\n",
       "    }\n",
       "</style>\n",
       "<table border=\"1\" class=\"dataframe\">\n",
       "  <thead>\n",
       "    <tr style=\"text-align: right;\">\n",
       "      <th></th>\n",
       "      <th>Accuracy (mean)</th>\n",
       "      <th>Precision (rms)</th>\n",
       "    </tr>\n",
       "    <tr>\n",
       "      <th>Subject</th>\n",
       "      <th></th>\n",
       "      <th></th>\n",
       "    </tr>\n",
       "  </thead>\n",
       "  <tbody>\n",
       "    <tr>\n",
       "      <th>Subject 1</th>\n",
       "      <td>1.550301</td>\n",
       "      <td>0.294925</td>\n",
       "    </tr>\n",
       "    <tr>\n",
       "      <th>Subject 2</th>\n",
       "      <td>1.615494</td>\n",
       "      <td>0.175529</td>\n",
       "    </tr>\n",
       "    <tr>\n",
       "      <th>Subject 3</th>\n",
       "      <td>1.572250</td>\n",
       "      <td>0.192382</td>\n",
       "    </tr>\n",
       "    <tr>\n",
       "      <th>Subject 4</th>\n",
       "      <td>1.546893</td>\n",
       "      <td>0.132783</td>\n",
       "    </tr>\n",
       "    <tr>\n",
       "      <th>Subject 5</th>\n",
       "      <td>0.807822</td>\n",
       "      <td>0.138437</td>\n",
       "    </tr>\n",
       "    <tr>\n",
       "      <th>Subject 6</th>\n",
       "      <td>2.068126</td>\n",
       "      <td>0.434209</td>\n",
       "    </tr>\n",
       "    <tr>\n",
       "      <th>Subject 7</th>\n",
       "      <td>1.314768</td>\n",
       "      <td>0.192399</td>\n",
       "    </tr>\n",
       "    <tr>\n",
       "      <th>Subject 8</th>\n",
       "      <td>1.143677</td>\n",
       "      <td>0.174090</td>\n",
       "    </tr>\n",
       "    <tr>\n",
       "      <th>Subject 9</th>\n",
       "      <td>1.887403</td>\n",
       "      <td>0.962695</td>\n",
       "    </tr>\n",
       "    <tr>\n",
       "      <th>Subject 10</th>\n",
       "      <td>1.222211</td>\n",
       "      <td>0.271582</td>\n",
       "    </tr>\n",
       "    <tr>\n",
       "      <th>Subject 11</th>\n",
       "      <td>2.284482</td>\n",
       "      <td>0.128201</td>\n",
       "    </tr>\n",
       "  </tbody>\n",
       "</table>\n",
       "</div>"
      ],
      "text/plain": [
       "            Accuracy (mean)  Precision (rms)\n",
       "Subject                                     \n",
       "Subject 1          1.550301         0.294925\n",
       "Subject 2          1.615494         0.175529\n",
       "Subject 3          1.572250         0.192382\n",
       "Subject 4          1.546893         0.132783\n",
       "Subject 5          0.807822         0.138437\n",
       "Subject 6          2.068126         0.434209\n",
       "Subject 7          1.314768         0.192399\n",
       "Subject 8          1.143677         0.174090\n",
       "Subject 9          1.887403         0.962695\n",
       "Subject 10         1.222211         0.271582\n",
       "Subject 11         2.284482         0.128201"
      ]
     },
     "execution_count": 103,
     "metadata": {},
     "output_type": "execute_result"
    }
   ],
   "source": [
    "individual_results_df = pd.DataFrame()\n",
    "\n",
    "individual_results_df['Subject'] = [f'Subject {x + 1}' for x in range(len(preprocessed_df_list))]\n",
    "individual_results_df['Accuracy (mean)'] = [df['Theta'].mean() for df in preprocessed_df_list]\n",
    "individual_results_df['Precision (rms)'] = [rms(df) for df in preprocessed_df_list]\n",
    "individual_results_df.set_index(\"Subject\")"
   ]
  },
  {
   "cell_type": "code",
   "execution_count": 104,
   "metadata": {},
   "outputs": [
    {
     "data": {
      "text/html": [
       "<div>\n",
       "<style scoped>\n",
       "    .dataframe tbody tr th:only-of-type {\n",
       "        vertical-align: middle;\n",
       "    }\n",
       "\n",
       "    .dataframe tbody tr th {\n",
       "        vertical-align: top;\n",
       "    }\n",
       "\n",
       "    .dataframe thead th {\n",
       "        text-align: right;\n",
       "    }\n",
       "</style>\n",
       "<table border=\"1\" class=\"dataframe\">\n",
       "  <thead>\n",
       "    <tr style=\"text-align: right;\">\n",
       "      <th></th>\n",
       "      <th>Accuracy (mean)</th>\n",
       "      <th>Precision (rms)</th>\n",
       "    </tr>\n",
       "  </thead>\n",
       "  <tbody>\n",
       "    <tr>\n",
       "      <th>mean</th>\n",
       "      <td>1.546675</td>\n",
       "      <td>0.281567</td>\n",
       "    </tr>\n",
       "  </tbody>\n",
       "</table>\n",
       "</div>"
      ],
      "text/plain": [
       "      Accuracy (mean)  Precision (rms)\n",
       "mean         1.546675         0.281567"
      ]
     },
     "execution_count": 104,
     "metadata": {},
     "output_type": "execute_result"
    }
   ],
   "source": [
    "results_df = individual_results_df[['Accuracy (mean)', 'Precision (rms)']].agg(['mean'])\n",
    "results_df"
   ]
  }
 ],
 "metadata": {
  "kernelspec": {
   "display_name": "base",
   "language": "python",
   "name": "python3"
  },
  "language_info": {
   "codemirror_mode": {
    "name": "ipython",
    "version": 3
   },
   "file_extension": ".py",
   "mimetype": "text/x-python",
   "name": "python",
   "nbconvert_exporter": "python",
   "pygments_lexer": "ipython3",
   "version": "3.9.16"
  }
 },
 "nbformat": 4,
 "nbformat_minor": 2
}
